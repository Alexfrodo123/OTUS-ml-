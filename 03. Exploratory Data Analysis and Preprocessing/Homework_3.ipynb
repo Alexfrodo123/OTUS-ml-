{
 "cells": [
  {
   "cell_type": "code",
   "execution_count": 1,
   "metadata": {},
   "outputs": [],
   "source": [
    "import pandas as pd\n",
    "import numpy as np\n",
    "import matplotlib.pyplot as plt\n",
    "import seaborn as sns\n",
    "%matplotlib inline "
   ]
  },
  {
   "cell_type": "code",
   "execution_count": 2,
   "metadata": {},
   "outputs": [
    {
     "data": {
      "text/html": [
       "<div>\n",
       "<style scoped>\n",
       "    .dataframe tbody tr th:only-of-type {\n",
       "        vertical-align: middle;\n",
       "    }\n",
       "\n",
       "    .dataframe tbody tr th {\n",
       "        vertical-align: top;\n",
       "    }\n",
       "\n",
       "    .dataframe thead th {\n",
       "        text-align: right;\n",
       "    }\n",
       "</style>\n",
       "<table border=\"1\" class=\"dataframe\">\n",
       "  <thead>\n",
       "    <tr style=\"text-align: right;\">\n",
       "      <th></th>\n",
       "      <th>ID_number</th>\n",
       "      <th>Diagnosis</th>\n",
       "      <th>Mean_radius</th>\n",
       "      <th>Mean_texture</th>\n",
       "      <th>Mean_perimeter</th>\n",
       "      <th>Mean_area</th>\n",
       "      <th>Mean_smoothness</th>\n",
       "      <th>Mean_compactness</th>\n",
       "      <th>Mean_concavity</th>\n",
       "      <th>Mean_concave_points</th>\n",
       "      <th>...</th>\n",
       "      <th>Worst_radius</th>\n",
       "      <th>Worst_texture</th>\n",
       "      <th>Worst_perimeter</th>\n",
       "      <th>Worst_area</th>\n",
       "      <th>Worst_smoothness</th>\n",
       "      <th>Worst_compactness</th>\n",
       "      <th>Worst_concavity</th>\n",
       "      <th>Worst_concave_points</th>\n",
       "      <th>Worst_symmetry</th>\n",
       "      <th>Worst_fractal_dimension</th>\n",
       "    </tr>\n",
       "  </thead>\n",
       "  <tbody>\n",
       "    <tr>\n",
       "      <th>0</th>\n",
       "      <td>842302</td>\n",
       "      <td>M</td>\n",
       "      <td>17.99</td>\n",
       "      <td>10.38</td>\n",
       "      <td>122.80</td>\n",
       "      <td>1001.0</td>\n",
       "      <td>0.11840</td>\n",
       "      <td>0.27760</td>\n",
       "      <td>0.3001</td>\n",
       "      <td>0.14710</td>\n",
       "      <td>...</td>\n",
       "      <td>25.38</td>\n",
       "      <td>17.33</td>\n",
       "      <td>184.60</td>\n",
       "      <td>2019.0</td>\n",
       "      <td>0.1622</td>\n",
       "      <td>0.6656</td>\n",
       "      <td>0.7119</td>\n",
       "      <td>0.2654</td>\n",
       "      <td>0.4601</td>\n",
       "      <td>0.11890</td>\n",
       "    </tr>\n",
       "    <tr>\n",
       "      <th>1</th>\n",
       "      <td>842517</td>\n",
       "      <td>M</td>\n",
       "      <td>20.57</td>\n",
       "      <td>17.77</td>\n",
       "      <td>132.90</td>\n",
       "      <td>1326.0</td>\n",
       "      <td>0.08474</td>\n",
       "      <td>0.07864</td>\n",
       "      <td>0.0869</td>\n",
       "      <td>0.07017</td>\n",
       "      <td>...</td>\n",
       "      <td>24.99</td>\n",
       "      <td>23.41</td>\n",
       "      <td>158.80</td>\n",
       "      <td>1956.0</td>\n",
       "      <td>0.1238</td>\n",
       "      <td>0.1866</td>\n",
       "      <td>0.2416</td>\n",
       "      <td>0.1860</td>\n",
       "      <td>0.2750</td>\n",
       "      <td>0.08902</td>\n",
       "    </tr>\n",
       "    <tr>\n",
       "      <th>2</th>\n",
       "      <td>84300903</td>\n",
       "      <td>M</td>\n",
       "      <td>19.69</td>\n",
       "      <td>21.25</td>\n",
       "      <td>130.00</td>\n",
       "      <td>1203.0</td>\n",
       "      <td>0.10960</td>\n",
       "      <td>0.15990</td>\n",
       "      <td>0.1974</td>\n",
       "      <td>0.12790</td>\n",
       "      <td>...</td>\n",
       "      <td>23.57</td>\n",
       "      <td>25.53</td>\n",
       "      <td>152.50</td>\n",
       "      <td>1709.0</td>\n",
       "      <td>0.1444</td>\n",
       "      <td>0.4245</td>\n",
       "      <td>0.4504</td>\n",
       "      <td>0.2430</td>\n",
       "      <td>0.3613</td>\n",
       "      <td>0.08758</td>\n",
       "    </tr>\n",
       "    <tr>\n",
       "      <th>3</th>\n",
       "      <td>84348301</td>\n",
       "      <td>M</td>\n",
       "      <td>11.42</td>\n",
       "      <td>20.38</td>\n",
       "      <td>77.58</td>\n",
       "      <td>386.1</td>\n",
       "      <td>0.14250</td>\n",
       "      <td>0.28390</td>\n",
       "      <td>0.2414</td>\n",
       "      <td>0.10520</td>\n",
       "      <td>...</td>\n",
       "      <td>14.91</td>\n",
       "      <td>26.50</td>\n",
       "      <td>98.87</td>\n",
       "      <td>567.7</td>\n",
       "      <td>0.2098</td>\n",
       "      <td>0.8663</td>\n",
       "      <td>0.6869</td>\n",
       "      <td>0.2575</td>\n",
       "      <td>0.6638</td>\n",
       "      <td>0.17300</td>\n",
       "    </tr>\n",
       "    <tr>\n",
       "      <th>4</th>\n",
       "      <td>84358402</td>\n",
       "      <td>M</td>\n",
       "      <td>20.29</td>\n",
       "      <td>14.34</td>\n",
       "      <td>135.10</td>\n",
       "      <td>1297.0</td>\n",
       "      <td>0.10030</td>\n",
       "      <td>0.13280</td>\n",
       "      <td>0.1980</td>\n",
       "      <td>0.10430</td>\n",
       "      <td>...</td>\n",
       "      <td>22.54</td>\n",
       "      <td>16.67</td>\n",
       "      <td>152.20</td>\n",
       "      <td>1575.0</td>\n",
       "      <td>0.1374</td>\n",
       "      <td>0.2050</td>\n",
       "      <td>0.4000</td>\n",
       "      <td>0.1625</td>\n",
       "      <td>0.2364</td>\n",
       "      <td>0.07678</td>\n",
       "    </tr>\n",
       "  </tbody>\n",
       "</table>\n",
       "<p>5 rows × 32 columns</p>\n",
       "</div>"
      ],
      "text/plain": [
       "   ID_number Diagnosis  Mean_radius  Mean_texture  Mean_perimeter  Mean_area  \\\n",
       "0     842302         M        17.99         10.38          122.80     1001.0   \n",
       "1     842517         M        20.57         17.77          132.90     1326.0   \n",
       "2   84300903         M        19.69         21.25          130.00     1203.0   \n",
       "3   84348301         M        11.42         20.38           77.58      386.1   \n",
       "4   84358402         M        20.29         14.34          135.10     1297.0   \n",
       "\n",
       "   Mean_smoothness  Mean_compactness  Mean_concavity  Mean_concave_points  \\\n",
       "0          0.11840           0.27760          0.3001              0.14710   \n",
       "1          0.08474           0.07864          0.0869              0.07017   \n",
       "2          0.10960           0.15990          0.1974              0.12790   \n",
       "3          0.14250           0.28390          0.2414              0.10520   \n",
       "4          0.10030           0.13280          0.1980              0.10430   \n",
       "\n",
       "   ...  Worst_radius  Worst_texture  Worst_perimeter  Worst_area  \\\n",
       "0  ...         25.38          17.33           184.60      2019.0   \n",
       "1  ...         24.99          23.41           158.80      1956.0   \n",
       "2  ...         23.57          25.53           152.50      1709.0   \n",
       "3  ...         14.91          26.50            98.87       567.7   \n",
       "4  ...         22.54          16.67           152.20      1575.0   \n",
       "\n",
       "   Worst_smoothness  Worst_compactness  Worst_concavity  Worst_concave_points  \\\n",
       "0            0.1622             0.6656           0.7119                0.2654   \n",
       "1            0.1238             0.1866           0.2416                0.1860   \n",
       "2            0.1444             0.4245           0.4504                0.2430   \n",
       "3            0.2098             0.8663           0.6869                0.2575   \n",
       "4            0.1374             0.2050           0.4000                0.1625   \n",
       "\n",
       "   Worst_symmetry  Worst_fractal_dimension  \n",
       "0          0.4601                  0.11890  \n",
       "1          0.2750                  0.08902  \n",
       "2          0.3613                  0.08758  \n",
       "3          0.6638                  0.17300  \n",
       "4          0.2364                  0.07678  \n",
       "\n",
       "[5 rows x 32 columns]"
      ]
     },
     "execution_count": 2,
     "metadata": {},
     "output_type": "execute_result"
    }
   ],
   "source": [
    "df = pd.read_csv('wdbc.csv')\n",
    "df.head()"
   ]
  },
  {
   "cell_type": "code",
   "execution_count": 3,
   "metadata": {},
   "outputs": [
    {
     "name": "stdout",
     "output_type": "stream",
     "text": [
      "<class 'pandas.core.frame.DataFrame'>\n",
      "RangeIndex: 569 entries, 0 to 568\n",
      "Data columns (total 32 columns):\n",
      " #   Column                   Non-Null Count  Dtype  \n",
      "---  ------                   --------------  -----  \n",
      " 0   ID_number                569 non-null    int64  \n",
      " 1   Diagnosis                569 non-null    object \n",
      " 2   Mean_radius              569 non-null    float64\n",
      " 3   Mean_texture             569 non-null    float64\n",
      " 4   Mean_perimeter           569 non-null    float64\n",
      " 5   Mean_area                569 non-null    float64\n",
      " 6   Mean_smoothness          569 non-null    float64\n",
      " 7   Mean_compactness         569 non-null    float64\n",
      " 8   Mean_concavity           569 non-null    float64\n",
      " 9   Mean_concave_points      569 non-null    float64\n",
      " 10  Mean_symmetry            569 non-null    float64\n",
      " 11  Mean_fractal_dimension   569 non-null    float64\n",
      " 12  Radius_SE                569 non-null    float64\n",
      " 13  Texture_SE               569 non-null    float64\n",
      " 14  Perimeter_SE             569 non-null    float64\n",
      " 15  Area_SE                  569 non-null    float64\n",
      " 16  Smoothness_SE            569 non-null    float64\n",
      " 17  Compactness_SE           569 non-null    float64\n",
      " 18  Concavity_SE             569 non-null    float64\n",
      " 19  Concave_points_SE        569 non-null    float64\n",
      " 20  Symmetry_SE              569 non-null    float64\n",
      " 21  Fractal_dimension_SE     569 non-null    float64\n",
      " 22  Worst_radius             569 non-null    float64\n",
      " 23  Worst_texture            569 non-null    float64\n",
      " 24  Worst_perimeter          569 non-null    float64\n",
      " 25  Worst_area               569 non-null    float64\n",
      " 26  Worst_smoothness         569 non-null    float64\n",
      " 27  Worst_compactness        569 non-null    float64\n",
      " 28  Worst_concavity          569 non-null    float64\n",
      " 29  Worst_concave_points     569 non-null    float64\n",
      " 30  Worst_symmetry           569 non-null    float64\n",
      " 31  Worst_fractal_dimension  569 non-null    float64\n",
      "dtypes: float64(30), int64(1), object(1)\n",
      "memory usage: 142.4+ KB\n"
     ]
    }
   ],
   "source": [
    "df.info()"
   ]
  },
  {
   "cell_type": "code",
   "execution_count": 4,
   "metadata": {},
   "outputs": [
    {
     "data": {
      "text/html": [
       "<div>\n",
       "<style scoped>\n",
       "    .dataframe tbody tr th:only-of-type {\n",
       "        vertical-align: middle;\n",
       "    }\n",
       "\n",
       "    .dataframe tbody tr th {\n",
       "        vertical-align: top;\n",
       "    }\n",
       "\n",
       "    .dataframe thead th {\n",
       "        text-align: right;\n",
       "    }\n",
       "</style>\n",
       "<table border=\"1\" class=\"dataframe\">\n",
       "  <thead>\n",
       "    <tr style=\"text-align: right;\">\n",
       "      <th></th>\n",
       "      <th>ID_number</th>\n",
       "      <th>Mean_radius</th>\n",
       "      <th>Mean_texture</th>\n",
       "      <th>Mean_perimeter</th>\n",
       "      <th>Mean_area</th>\n",
       "      <th>Mean_smoothness</th>\n",
       "      <th>Mean_compactness</th>\n",
       "      <th>Mean_concavity</th>\n",
       "      <th>Mean_concave_points</th>\n",
       "      <th>Mean_symmetry</th>\n",
       "      <th>...</th>\n",
       "      <th>Worst_radius</th>\n",
       "      <th>Worst_texture</th>\n",
       "      <th>Worst_perimeter</th>\n",
       "      <th>Worst_area</th>\n",
       "      <th>Worst_smoothness</th>\n",
       "      <th>Worst_compactness</th>\n",
       "      <th>Worst_concavity</th>\n",
       "      <th>Worst_concave_points</th>\n",
       "      <th>Worst_symmetry</th>\n",
       "      <th>Worst_fractal_dimension</th>\n",
       "    </tr>\n",
       "  </thead>\n",
       "  <tbody>\n",
       "    <tr>\n",
       "      <th>count</th>\n",
       "      <td>5.690000e+02</td>\n",
       "      <td>569.000000</td>\n",
       "      <td>569.000000</td>\n",
       "      <td>569.000000</td>\n",
       "      <td>569.000000</td>\n",
       "      <td>569.000000</td>\n",
       "      <td>569.000000</td>\n",
       "      <td>569.000000</td>\n",
       "      <td>569.000000</td>\n",
       "      <td>569.000000</td>\n",
       "      <td>...</td>\n",
       "      <td>569.000000</td>\n",
       "      <td>569.000000</td>\n",
       "      <td>569.000000</td>\n",
       "      <td>569.000000</td>\n",
       "      <td>569.000000</td>\n",
       "      <td>569.000000</td>\n",
       "      <td>569.000000</td>\n",
       "      <td>569.000000</td>\n",
       "      <td>569.000000</td>\n",
       "      <td>569.000000</td>\n",
       "    </tr>\n",
       "    <tr>\n",
       "      <th>mean</th>\n",
       "      <td>3.037183e+07</td>\n",
       "      <td>14.127292</td>\n",
       "      <td>19.289649</td>\n",
       "      <td>91.969033</td>\n",
       "      <td>654.889104</td>\n",
       "      <td>0.096360</td>\n",
       "      <td>0.104341</td>\n",
       "      <td>0.088799</td>\n",
       "      <td>0.048919</td>\n",
       "      <td>0.181162</td>\n",
       "      <td>...</td>\n",
       "      <td>16.269190</td>\n",
       "      <td>25.677223</td>\n",
       "      <td>107.261213</td>\n",
       "      <td>880.583128</td>\n",
       "      <td>0.132369</td>\n",
       "      <td>0.254265</td>\n",
       "      <td>0.272188</td>\n",
       "      <td>0.114606</td>\n",
       "      <td>0.290076</td>\n",
       "      <td>0.083946</td>\n",
       "    </tr>\n",
       "    <tr>\n",
       "      <th>std</th>\n",
       "      <td>1.250206e+08</td>\n",
       "      <td>3.524049</td>\n",
       "      <td>4.301036</td>\n",
       "      <td>24.298981</td>\n",
       "      <td>351.914129</td>\n",
       "      <td>0.014064</td>\n",
       "      <td>0.052813</td>\n",
       "      <td>0.079720</td>\n",
       "      <td>0.038803</td>\n",
       "      <td>0.027414</td>\n",
       "      <td>...</td>\n",
       "      <td>4.833242</td>\n",
       "      <td>6.146258</td>\n",
       "      <td>33.602542</td>\n",
       "      <td>569.356993</td>\n",
       "      <td>0.022832</td>\n",
       "      <td>0.157336</td>\n",
       "      <td>0.208624</td>\n",
       "      <td>0.065732</td>\n",
       "      <td>0.061867</td>\n",
       "      <td>0.018061</td>\n",
       "    </tr>\n",
       "    <tr>\n",
       "      <th>min</th>\n",
       "      <td>8.670000e+03</td>\n",
       "      <td>6.981000</td>\n",
       "      <td>9.710000</td>\n",
       "      <td>43.790000</td>\n",
       "      <td>143.500000</td>\n",
       "      <td>0.052630</td>\n",
       "      <td>0.019380</td>\n",
       "      <td>0.000000</td>\n",
       "      <td>0.000000</td>\n",
       "      <td>0.106000</td>\n",
       "      <td>...</td>\n",
       "      <td>7.930000</td>\n",
       "      <td>12.020000</td>\n",
       "      <td>50.410000</td>\n",
       "      <td>185.200000</td>\n",
       "      <td>0.071170</td>\n",
       "      <td>0.027290</td>\n",
       "      <td>0.000000</td>\n",
       "      <td>0.000000</td>\n",
       "      <td>0.156500</td>\n",
       "      <td>0.055040</td>\n",
       "    </tr>\n",
       "    <tr>\n",
       "      <th>25%</th>\n",
       "      <td>8.692180e+05</td>\n",
       "      <td>11.700000</td>\n",
       "      <td>16.170000</td>\n",
       "      <td>75.170000</td>\n",
       "      <td>420.300000</td>\n",
       "      <td>0.086370</td>\n",
       "      <td>0.064920</td>\n",
       "      <td>0.029560</td>\n",
       "      <td>0.020310</td>\n",
       "      <td>0.161900</td>\n",
       "      <td>...</td>\n",
       "      <td>13.010000</td>\n",
       "      <td>21.080000</td>\n",
       "      <td>84.110000</td>\n",
       "      <td>515.300000</td>\n",
       "      <td>0.116600</td>\n",
       "      <td>0.147200</td>\n",
       "      <td>0.114500</td>\n",
       "      <td>0.064930</td>\n",
       "      <td>0.250400</td>\n",
       "      <td>0.071460</td>\n",
       "    </tr>\n",
       "    <tr>\n",
       "      <th>50%</th>\n",
       "      <td>9.060240e+05</td>\n",
       "      <td>13.370000</td>\n",
       "      <td>18.840000</td>\n",
       "      <td>86.240000</td>\n",
       "      <td>551.100000</td>\n",
       "      <td>0.095870</td>\n",
       "      <td>0.092630</td>\n",
       "      <td>0.061540</td>\n",
       "      <td>0.033500</td>\n",
       "      <td>0.179200</td>\n",
       "      <td>...</td>\n",
       "      <td>14.970000</td>\n",
       "      <td>25.410000</td>\n",
       "      <td>97.660000</td>\n",
       "      <td>686.500000</td>\n",
       "      <td>0.131300</td>\n",
       "      <td>0.211900</td>\n",
       "      <td>0.226700</td>\n",
       "      <td>0.099930</td>\n",
       "      <td>0.282200</td>\n",
       "      <td>0.080040</td>\n",
       "    </tr>\n",
       "    <tr>\n",
       "      <th>75%</th>\n",
       "      <td>8.813129e+06</td>\n",
       "      <td>15.780000</td>\n",
       "      <td>21.800000</td>\n",
       "      <td>104.100000</td>\n",
       "      <td>782.700000</td>\n",
       "      <td>0.105300</td>\n",
       "      <td>0.130400</td>\n",
       "      <td>0.130700</td>\n",
       "      <td>0.074000</td>\n",
       "      <td>0.195700</td>\n",
       "      <td>...</td>\n",
       "      <td>18.790000</td>\n",
       "      <td>29.720000</td>\n",
       "      <td>125.400000</td>\n",
       "      <td>1084.000000</td>\n",
       "      <td>0.146000</td>\n",
       "      <td>0.339100</td>\n",
       "      <td>0.382900</td>\n",
       "      <td>0.161400</td>\n",
       "      <td>0.317900</td>\n",
       "      <td>0.092080</td>\n",
       "    </tr>\n",
       "    <tr>\n",
       "      <th>max</th>\n",
       "      <td>9.113205e+08</td>\n",
       "      <td>28.110000</td>\n",
       "      <td>39.280000</td>\n",
       "      <td>188.500000</td>\n",
       "      <td>2501.000000</td>\n",
       "      <td>0.163400</td>\n",
       "      <td>0.345400</td>\n",
       "      <td>0.426800</td>\n",
       "      <td>0.201200</td>\n",
       "      <td>0.304000</td>\n",
       "      <td>...</td>\n",
       "      <td>36.040000</td>\n",
       "      <td>49.540000</td>\n",
       "      <td>251.200000</td>\n",
       "      <td>4254.000000</td>\n",
       "      <td>0.222600</td>\n",
       "      <td>1.058000</td>\n",
       "      <td>1.252000</td>\n",
       "      <td>0.291000</td>\n",
       "      <td>0.663800</td>\n",
       "      <td>0.207500</td>\n",
       "    </tr>\n",
       "  </tbody>\n",
       "</table>\n",
       "<p>8 rows × 31 columns</p>\n",
       "</div>"
      ],
      "text/plain": [
       "          ID_number  Mean_radius  Mean_texture  Mean_perimeter    Mean_area  \\\n",
       "count  5.690000e+02   569.000000    569.000000      569.000000   569.000000   \n",
       "mean   3.037183e+07    14.127292     19.289649       91.969033   654.889104   \n",
       "std    1.250206e+08     3.524049      4.301036       24.298981   351.914129   \n",
       "min    8.670000e+03     6.981000      9.710000       43.790000   143.500000   \n",
       "25%    8.692180e+05    11.700000     16.170000       75.170000   420.300000   \n",
       "50%    9.060240e+05    13.370000     18.840000       86.240000   551.100000   \n",
       "75%    8.813129e+06    15.780000     21.800000      104.100000   782.700000   \n",
       "max    9.113205e+08    28.110000     39.280000      188.500000  2501.000000   \n",
       "\n",
       "       Mean_smoothness  Mean_compactness  Mean_concavity  Mean_concave_points  \\\n",
       "count       569.000000        569.000000      569.000000           569.000000   \n",
       "mean          0.096360          0.104341        0.088799             0.048919   \n",
       "std           0.014064          0.052813        0.079720             0.038803   \n",
       "min           0.052630          0.019380        0.000000             0.000000   \n",
       "25%           0.086370          0.064920        0.029560             0.020310   \n",
       "50%           0.095870          0.092630        0.061540             0.033500   \n",
       "75%           0.105300          0.130400        0.130700             0.074000   \n",
       "max           0.163400          0.345400        0.426800             0.201200   \n",
       "\n",
       "       Mean_symmetry  ...  Worst_radius  Worst_texture  Worst_perimeter  \\\n",
       "count     569.000000  ...    569.000000     569.000000       569.000000   \n",
       "mean        0.181162  ...     16.269190      25.677223       107.261213   \n",
       "std         0.027414  ...      4.833242       6.146258        33.602542   \n",
       "min         0.106000  ...      7.930000      12.020000        50.410000   \n",
       "25%         0.161900  ...     13.010000      21.080000        84.110000   \n",
       "50%         0.179200  ...     14.970000      25.410000        97.660000   \n",
       "75%         0.195700  ...     18.790000      29.720000       125.400000   \n",
       "max         0.304000  ...     36.040000      49.540000       251.200000   \n",
       "\n",
       "        Worst_area  Worst_smoothness  Worst_compactness  Worst_concavity  \\\n",
       "count   569.000000        569.000000         569.000000       569.000000   \n",
       "mean    880.583128          0.132369           0.254265         0.272188   \n",
       "std     569.356993          0.022832           0.157336         0.208624   \n",
       "min     185.200000          0.071170           0.027290         0.000000   \n",
       "25%     515.300000          0.116600           0.147200         0.114500   \n",
       "50%     686.500000          0.131300           0.211900         0.226700   \n",
       "75%    1084.000000          0.146000           0.339100         0.382900   \n",
       "max    4254.000000          0.222600           1.058000         1.252000   \n",
       "\n",
       "       Worst_concave_points  Worst_symmetry  Worst_fractal_dimension  \n",
       "count            569.000000      569.000000               569.000000  \n",
       "mean               0.114606        0.290076                 0.083946  \n",
       "std                0.065732        0.061867                 0.018061  \n",
       "min                0.000000        0.156500                 0.055040  \n",
       "25%                0.064930        0.250400                 0.071460  \n",
       "50%                0.099930        0.282200                 0.080040  \n",
       "75%                0.161400        0.317900                 0.092080  \n",
       "max                0.291000        0.663800                 0.207500  \n",
       "\n",
       "[8 rows x 31 columns]"
      ]
     },
     "execution_count": 4,
     "metadata": {},
     "output_type": "execute_result"
    }
   ],
   "source": [
    "df.describe()"
   ]
  },
  {
   "cell_type": "code",
   "execution_count": 5,
   "metadata": {},
   "outputs": [],
   "source": [
    "Corr=df.corr()"
   ]
  },
  {
   "cell_type": "code",
   "execution_count": 6,
   "metadata": {},
   "outputs": [
    {
     "data": {
      "text/plain": [
       "<matplotlib.axes._subplots.AxesSubplot at 0x271a526bf10>"
      ]
     },
     "execution_count": 6,
     "metadata": {},
     "output_type": "execute_result"
    },
    {
     "data": {
      "image/png": "[encoded data removed]",
      "text/plain": [
       "<Figure size 432x288 with 2 Axes>"
      ]
     },
     "metadata": {
      "needs_background": "light"
     },
     "output_type": "display_data"
    }
   ],
   "source": [
    "sns.heatmap(Corr, annot=False, fmt='.4f')"
   ]
  },
  {
   "cell_type": "code",
   "execution_count": 7,
   "metadata": {},
   "outputs": [
    {
     "name": "stdout",
     "output_type": "stream",
     "text": [
      "Mean_radius Mean_perimeter 0.9978552814938113\n",
      "Mean_radius Mean_area 0.9873571700566119\n",
      "Mean_radius Mean_concave_points 0.8225285223871791\n",
      "Mean_radius Area_SE 0.7358636632128175\n",
      "Mean_radius Worst_radius 0.9695389726112053\n",
      "Mean_radius Worst_perimeter 0.9651365139559878\n",
      "Mean_radius Worst_area 0.9410824595860459\n",
      "Mean_radius Worst_concave_points 0.7442141978674656\n",
      "Mean_texture Worst_texture 0.9120445888404215\n",
      "Mean_smoothness Worst_smoothness 0.8053241954943631\n",
      "Mean_compactness Mean_concavity 0.8831206701772499\n",
      "Mean_compactness Compactness_SE 0.7387217896603926\n",
      "Mean_compactness Worst_compactness 0.8658090398022638\n",
      "Mean_compactness Worst_concavity 0.8162752498000281\n",
      "Mean_fractal_dimension Worst_fractal_dimension 0.7672967792384351\n",
      "Radius_SE Perimeter_SE 0.9727936770160752\n",
      "Concavity_SE Concave_points_SE 0.771803994923847\n",
      "Concavity_SE Fractal_dimension_SE 0.7273721838811942\n"
     ]
    }
   ],
   "source": [
    "CorField = []\n",
    "for i in Corr:\n",
    "    for j in Corr.index[Corr[i] > 0.7]:\n",
    "        if i != j and j not in CorField and i not in CorField:\n",
    "            CorField.append(j)\n",
    "            print (i,j, Corr[i][Corr.index==j].values[0])"
   ]
  },
  {
   "cell_type": "code",
   "execution_count": 8,
   "metadata": {},
   "outputs": [],
   "source": [
    "df['Diagnosis'] = pd.get_dummies(df['Diagnosis'], drop_first=True)"
   ]
  },
  {
   "cell_type": "code",
   "execution_count": 9,
   "metadata": {},
   "outputs": [
    {
     "data": {
      "text/html": [
       "<div>\n",
       "<style scoped>\n",
       "    .dataframe tbody tr th:only-of-type {\n",
       "        vertical-align: middle;\n",
       "    }\n",
       "\n",
       "    .dataframe tbody tr th {\n",
       "        vertical-align: top;\n",
       "    }\n",
       "\n",
       "    .dataframe thead th {\n",
       "        text-align: right;\n",
       "    }\n",
       "</style>\n",
       "<table border=\"1\" class=\"dataframe\">\n",
       "  <thead>\n",
       "    <tr style=\"text-align: right;\">\n",
       "      <th></th>\n",
       "      <th>ID_number</th>\n",
       "      <th>Diagnosis</th>\n",
       "      <th>Mean_radius</th>\n",
       "      <th>Mean_texture</th>\n",
       "      <th>Mean_perimeter</th>\n",
       "      <th>Mean_area</th>\n",
       "      <th>Mean_smoothness</th>\n",
       "      <th>Mean_compactness</th>\n",
       "      <th>Mean_concavity</th>\n",
       "      <th>Mean_concave_points</th>\n",
       "      <th>...</th>\n",
       "      <th>Worst_radius</th>\n",
       "      <th>Worst_texture</th>\n",
       "      <th>Worst_perimeter</th>\n",
       "      <th>Worst_area</th>\n",
       "      <th>Worst_smoothness</th>\n",
       "      <th>Worst_compactness</th>\n",
       "      <th>Worst_concavity</th>\n",
       "      <th>Worst_concave_points</th>\n",
       "      <th>Worst_symmetry</th>\n",
       "      <th>Worst_fractal_dimension</th>\n",
       "    </tr>\n",
       "  </thead>\n",
       "  <tbody>\n",
       "    <tr>\n",
       "      <th>0</th>\n",
       "      <td>842302</td>\n",
       "      <td>1</td>\n",
       "      <td>17.99</td>\n",
       "      <td>10.38</td>\n",
       "      <td>122.80</td>\n",
       "      <td>1001.0</td>\n",
       "      <td>0.11840</td>\n",
       "      <td>0.27760</td>\n",
       "      <td>0.3001</td>\n",
       "      <td>0.14710</td>\n",
       "      <td>...</td>\n",
       "      <td>25.38</td>\n",
       "      <td>17.33</td>\n",
       "      <td>184.60</td>\n",
       "      <td>2019.0</td>\n",
       "      <td>0.1622</td>\n",
       "      <td>0.6656</td>\n",
       "      <td>0.7119</td>\n",
       "      <td>0.2654</td>\n",
       "      <td>0.4601</td>\n",
       "      <td>0.11890</td>\n",
       "    </tr>\n",
       "    <tr>\n",
       "      <th>1</th>\n",
       "      <td>842517</td>\n",
       "      <td>1</td>\n",
       "      <td>20.57</td>\n",
       "      <td>17.77</td>\n",
       "      <td>132.90</td>\n",
       "      <td>1326.0</td>\n",
       "      <td>0.08474</td>\n",
       "      <td>0.07864</td>\n",
       "      <td>0.0869</td>\n",
       "      <td>0.07017</td>\n",
       "      <td>...</td>\n",
       "      <td>24.99</td>\n",
       "      <td>23.41</td>\n",
       "      <td>158.80</td>\n",
       "      <td>1956.0</td>\n",
       "      <td>0.1238</td>\n",
       "      <td>0.1866</td>\n",
       "      <td>0.2416</td>\n",
       "      <td>0.1860</td>\n",
       "      <td>0.2750</td>\n",
       "      <td>0.08902</td>\n",
       "    </tr>\n",
       "    <tr>\n",
       "      <th>2</th>\n",
       "      <td>84300903</td>\n",
       "      <td>1</td>\n",
       "      <td>19.69</td>\n",
       "      <td>21.25</td>\n",
       "      <td>130.00</td>\n",
       "      <td>1203.0</td>\n",
       "      <td>0.10960</td>\n",
       "      <td>0.15990</td>\n",
       "      <td>0.1974</td>\n",
       "      <td>0.12790</td>\n",
       "      <td>...</td>\n",
       "      <td>23.57</td>\n",
       "      <td>25.53</td>\n",
       "      <td>152.50</td>\n",
       "      <td>1709.0</td>\n",
       "      <td>0.1444</td>\n",
       "      <td>0.4245</td>\n",
       "      <td>0.4504</td>\n",
       "      <td>0.2430</td>\n",
       "      <td>0.3613</td>\n",
       "      <td>0.08758</td>\n",
       "    </tr>\n",
       "    <tr>\n",
       "      <th>3</th>\n",
       "      <td>84348301</td>\n",
       "      <td>1</td>\n",
       "      <td>11.42</td>\n",
       "      <td>20.38</td>\n",
       "      <td>77.58</td>\n",
       "      <td>386.1</td>\n",
       "      <td>0.14250</td>\n",
       "      <td>0.28390</td>\n",
       "      <td>0.2414</td>\n",
       "      <td>0.10520</td>\n",
       "      <td>...</td>\n",
       "      <td>14.91</td>\n",
       "      <td>26.50</td>\n",
       "      <td>98.87</td>\n",
       "      <td>567.7</td>\n",
       "      <td>0.2098</td>\n",
       "      <td>0.8663</td>\n",
       "      <td>0.6869</td>\n",
       "      <td>0.2575</td>\n",
       "      <td>0.6638</td>\n",
       "      <td>0.17300</td>\n",
       "    </tr>\n",
       "    <tr>\n",
       "      <th>4</th>\n",
       "      <td>84358402</td>\n",
       "      <td>1</td>\n",
       "      <td>20.29</td>\n",
       "      <td>14.34</td>\n",
       "      <td>135.10</td>\n",
       "      <td>1297.0</td>\n",
       "      <td>0.10030</td>\n",
       "      <td>0.13280</td>\n",
       "      <td>0.1980</td>\n",
       "      <td>0.10430</td>\n",
       "      <td>...</td>\n",
       "      <td>22.54</td>\n",
       "      <td>16.67</td>\n",
       "      <td>152.20</td>\n",
       "      <td>1575.0</td>\n",
       "      <td>0.1374</td>\n",
       "      <td>0.2050</td>\n",
       "      <td>0.4000</td>\n",
       "      <td>0.1625</td>\n",
       "      <td>0.2364</td>\n",
       "      <td>0.07678</td>\n",
       "    </tr>\n",
       "  </tbody>\n",
       "</table>\n",
       "<p>5 rows × 32 columns</p>\n",
       "</div>"
      ],
      "text/plain": [
       "   ID_number  Diagnosis  Mean_radius  Mean_texture  Mean_perimeter  Mean_area  \\\n",
       "0     842302          1        17.99         10.38          122.80     1001.0   \n",
       "1     842517          1        20.57         17.77          132.90     1326.0   \n",
       "2   84300903          1        19.69         21.25          130.00     1203.0   \n",
       "3   84348301          1        11.42         20.38           77.58      386.1   \n",
       "4   84358402          1        20.29         14.34          135.10     1297.0   \n",
       "\n",
       "   Mean_smoothness  Mean_compactness  Mean_concavity  Mean_concave_points  \\\n",
       "0          0.11840           0.27760          0.3001              0.14710   \n",
       "1          0.08474           0.07864          0.0869              0.07017   \n",
       "2          0.10960           0.15990          0.1974              0.12790   \n",
       "3          0.14250           0.28390          0.2414              0.10520   \n",
       "4          0.10030           0.13280          0.1980              0.10430   \n",
       "\n",
       "   ...  Worst_radius  Worst_texture  Worst_perimeter  Worst_area  \\\n",
       "0  ...         25.38          17.33           184.60      2019.0   \n",
       "1  ...         24.99          23.41           158.80      1956.0   \n",
       "2  ...         23.57          25.53           152.50      1709.0   \n",
       "3  ...         14.91          26.50            98.87       567.7   \n",
       "4  ...         22.54          16.67           152.20      1575.0   \n",
       "\n",
       "   Worst_smoothness  Worst_compactness  Worst_concavity  Worst_concave_points  \\\n",
       "0            0.1622             0.6656           0.7119                0.2654   \n",
       "1            0.1238             0.1866           0.2416                0.1860   \n",
       "2            0.1444             0.4245           0.4504                0.2430   \n",
       "3            0.2098             0.8663           0.6869                0.2575   \n",
       "4            0.1374             0.2050           0.4000                0.1625   \n",
       "\n",
       "   Worst_symmetry  Worst_fractal_dimension  \n",
       "0          0.4601                  0.11890  \n",
       "1          0.2750                  0.08902  \n",
       "2          0.3613                  0.08758  \n",
       "3          0.6638                  0.17300  \n",
       "4          0.2364                  0.07678  \n",
       "\n",
       "[5 rows x 32 columns]"
      ]
     },
     "execution_count": 9,
     "metadata": {},
     "output_type": "execute_result"
    }
   ],
   "source": [
    "df.head()"
   ]
  },
  {
   "cell_type": "code",
   "execution_count": 10,
   "metadata": {},
   "outputs": [],
   "source": [
    "df = df.drop(columns=['ID_number'])"
   ]
  },
  {
   "cell_type": "code",
   "execution_count": 11,
   "metadata": {},
   "outputs": [
    {
     "data": {
      "text/html": [
       "<div>\n",
       "<style scoped>\n",
       "    .dataframe tbody tr th:only-of-type {\n",
       "        vertical-align: middle;\n",
       "    }\n",
       "\n",
       "    .dataframe tbody tr th {\n",
       "        vertical-align: top;\n",
       "    }\n",
       "\n",
       "    .dataframe thead th {\n",
       "        text-align: right;\n",
       "    }\n",
       "</style>\n",
       "<table border=\"1\" class=\"dataframe\">\n",
       "  <thead>\n",
       "    <tr style=\"text-align: right;\">\n",
       "      <th></th>\n",
       "      <th>Diagnosis</th>\n",
       "      <th>Mean_radius</th>\n",
       "      <th>Mean_texture</th>\n",
       "      <th>Mean_perimeter</th>\n",
       "      <th>Mean_area</th>\n",
       "      <th>Mean_smoothness</th>\n",
       "      <th>Mean_compactness</th>\n",
       "      <th>Mean_concavity</th>\n",
       "      <th>Mean_concave_points</th>\n",
       "      <th>Mean_symmetry</th>\n",
       "      <th>...</th>\n",
       "      <th>Worst_radius</th>\n",
       "      <th>Worst_texture</th>\n",
       "      <th>Worst_perimeter</th>\n",
       "      <th>Worst_area</th>\n",
       "      <th>Worst_smoothness</th>\n",
       "      <th>Worst_compactness</th>\n",
       "      <th>Worst_concavity</th>\n",
       "      <th>Worst_concave_points</th>\n",
       "      <th>Worst_symmetry</th>\n",
       "      <th>Worst_fractal_dimension</th>\n",
       "    </tr>\n",
       "  </thead>\n",
       "  <tbody>\n",
       "    <tr>\n",
       "      <th>0</th>\n",
       "      <td>1</td>\n",
       "      <td>17.99</td>\n",
       "      <td>10.38</td>\n",
       "      <td>122.80</td>\n",
       "      <td>1001.0</td>\n",
       "      <td>0.11840</td>\n",
       "      <td>0.27760</td>\n",
       "      <td>0.3001</td>\n",
       "      <td>0.14710</td>\n",
       "      <td>0.2419</td>\n",
       "      <td>...</td>\n",
       "      <td>25.38</td>\n",
       "      <td>17.33</td>\n",
       "      <td>184.60</td>\n",
       "      <td>2019.0</td>\n",
       "      <td>0.1622</td>\n",
       "      <td>0.6656</td>\n",
       "      <td>0.7119</td>\n",
       "      <td>0.2654</td>\n",
       "      <td>0.4601</td>\n",
       "      <td>0.11890</td>\n",
       "    </tr>\n",
       "    <tr>\n",
       "      <th>1</th>\n",
       "      <td>1</td>\n",
       "      <td>20.57</td>\n",
       "      <td>17.77</td>\n",
       "      <td>132.90</td>\n",
       "      <td>1326.0</td>\n",
       "      <td>0.08474</td>\n",
       "      <td>0.07864</td>\n",
       "      <td>0.0869</td>\n",
       "      <td>0.07017</td>\n",
       "      <td>0.1812</td>\n",
       "      <td>...</td>\n",
       "      <td>24.99</td>\n",
       "      <td>23.41</td>\n",
       "      <td>158.80</td>\n",
       "      <td>1956.0</td>\n",
       "      <td>0.1238</td>\n",
       "      <td>0.1866</td>\n",
       "      <td>0.2416</td>\n",
       "      <td>0.1860</td>\n",
       "      <td>0.2750</td>\n",
       "      <td>0.08902</td>\n",
       "    </tr>\n",
       "    <tr>\n",
       "      <th>2</th>\n",
       "      <td>1</td>\n",
       "      <td>19.69</td>\n",
       "      <td>21.25</td>\n",
       "      <td>130.00</td>\n",
       "      <td>1203.0</td>\n",
       "      <td>0.10960</td>\n",
       "      <td>0.15990</td>\n",
       "      <td>0.1974</td>\n",
       "      <td>0.12790</td>\n",
       "      <td>0.2069</td>\n",
       "      <td>...</td>\n",
       "      <td>23.57</td>\n",
       "      <td>25.53</td>\n",
       "      <td>152.50</td>\n",
       "      <td>1709.0</td>\n",
       "      <td>0.1444</td>\n",
       "      <td>0.4245</td>\n",
       "      <td>0.4504</td>\n",
       "      <td>0.2430</td>\n",
       "      <td>0.3613</td>\n",
       "      <td>0.08758</td>\n",
       "    </tr>\n",
       "    <tr>\n",
       "      <th>3</th>\n",
       "      <td>1</td>\n",
       "      <td>11.42</td>\n",
       "      <td>20.38</td>\n",
       "      <td>77.58</td>\n",
       "      <td>386.1</td>\n",
       "      <td>0.14250</td>\n",
       "      <td>0.28390</td>\n",
       "      <td>0.2414</td>\n",
       "      <td>0.10520</td>\n",
       "      <td>0.2597</td>\n",
       "      <td>...</td>\n",
       "      <td>14.91</td>\n",
       "      <td>26.50</td>\n",
       "      <td>98.87</td>\n",
       "      <td>567.7</td>\n",
       "      <td>0.2098</td>\n",
       "      <td>0.8663</td>\n",
       "      <td>0.6869</td>\n",
       "      <td>0.2575</td>\n",
       "      <td>0.6638</td>\n",
       "      <td>0.17300</td>\n",
       "    </tr>\n",
       "    <tr>\n",
       "      <th>4</th>\n",
       "      <td>1</td>\n",
       "      <td>20.29</td>\n",
       "      <td>14.34</td>\n",
       "      <td>135.10</td>\n",
       "      <td>1297.0</td>\n",
       "      <td>0.10030</td>\n",
       "      <td>0.13280</td>\n",
       "      <td>0.1980</td>\n",
       "      <td>0.10430</td>\n",
       "      <td>0.1809</td>\n",
       "      <td>...</td>\n",
       "      <td>22.54</td>\n",
       "      <td>16.67</td>\n",
       "      <td>152.20</td>\n",
       "      <td>1575.0</td>\n",
       "      <td>0.1374</td>\n",
       "      <td>0.2050</td>\n",
       "      <td>0.4000</td>\n",
       "      <td>0.1625</td>\n",
       "      <td>0.2364</td>\n",
       "      <td>0.07678</td>\n",
       "    </tr>\n",
       "  </tbody>\n",
       "</table>\n",
       "<p>5 rows × 31 columns</p>\n",
       "</div>"
      ],
      "text/plain": [
       "   Diagnosis  Mean_radius  Mean_texture  Mean_perimeter  Mean_area  \\\n",
       "0          1        17.99         10.38          122.80     1001.0   \n",
       "1          1        20.57         17.77          132.90     1326.0   \n",
       "2          1        19.69         21.25          130.00     1203.0   \n",
       "3          1        11.42         20.38           77.58      386.1   \n",
       "4          1        20.29         14.34          135.10     1297.0   \n",
       "\n",
       "   Mean_smoothness  Mean_compactness  Mean_concavity  Mean_concave_points  \\\n",
       "0          0.11840           0.27760          0.3001              0.14710   \n",
       "1          0.08474           0.07864          0.0869              0.07017   \n",
       "2          0.10960           0.15990          0.1974              0.12790   \n",
       "3          0.14250           0.28390          0.2414              0.10520   \n",
       "4          0.10030           0.13280          0.1980              0.10430   \n",
       "\n",
       "   Mean_symmetry  ...  Worst_radius  Worst_texture  Worst_perimeter  \\\n",
       "0         0.2419  ...         25.38          17.33           184.60   \n",
       "1         0.1812  ...         24.99          23.41           158.80   \n",
       "2         0.2069  ...         23.57          25.53           152.50   \n",
       "3         0.2597  ...         14.91          26.50            98.87   \n",
       "4         0.1809  ...         22.54          16.67           152.20   \n",
       "\n",
       "   Worst_area  Worst_smoothness  Worst_compactness  Worst_concavity  \\\n",
       "0      2019.0            0.1622             0.6656           0.7119   \n",
       "1      1956.0            0.1238             0.1866           0.2416   \n",
       "2      1709.0            0.1444             0.4245           0.4504   \n",
       "3       567.7            0.2098             0.8663           0.6869   \n",
       "4      1575.0            0.1374             0.2050           0.4000   \n",
       "\n",
       "   Worst_concave_points  Worst_symmetry  Worst_fractal_dimension  \n",
       "0                0.2654          0.4601                  0.11890  \n",
       "1                0.1860          0.2750                  0.08902  \n",
       "2                0.2430          0.3613                  0.08758  \n",
       "3                0.2575          0.6638                  0.17300  \n",
       "4                0.1625          0.2364                  0.07678  \n",
       "\n",
       "[5 rows x 31 columns]"
      ]
     },
     "execution_count": 11,
     "metadata": {},
     "output_type": "execute_result"
    }
   ],
   "source": [
    "df.head()"
   ]
  },
  {
   "cell_type": "code",
   "execution_count": 12,
   "metadata": {},
   "outputs": [
    {
     "name": "stdout",
     "output_type": "stream",
     "text": [
      "                         Diagnosis  Mean_radius  Mean_texture  Mean_perimeter  \\\n",
      "Diagnosis                 1.000000     0.730029      0.415185        0.742636   \n",
      "Mean_radius               0.730029     1.000000      0.323782        0.997855   \n",
      "Mean_texture              0.415185     0.323782      1.000000        0.329533   \n",
      "Mean_perimeter            0.742636     0.997855      0.329533        1.000000   \n",
      "Mean_area                 0.708984     0.987357      0.321086        0.986507   \n",
      "Mean_smoothness           0.358560     0.170581     -0.023389        0.207278   \n",
      "Mean_compactness          0.596534     0.506124      0.236702        0.556936   \n",
      "Mean_concavity            0.696360     0.676764      0.302418        0.716136   \n",
      "Mean_concave_points       0.776614     0.822529      0.293464        0.850977   \n",
      "Mean_symmetry             0.330499     0.147741      0.071401        0.183027   \n",
      "Mean_fractal_dimension   -0.012838    -0.311631     -0.076437       -0.261477   \n",
      "Radius_SE                 0.567134     0.679090      0.275869        0.691765   \n",
      "Texture_SE               -0.008303    -0.097317      0.386358       -0.086761   \n",
      "Perimeter_SE              0.556141     0.674172      0.281673        0.693135   \n",
      "Area_SE                   0.548236     0.735864      0.259845        0.744983   \n",
      "Smoothness_SE            -0.067016    -0.222600      0.006614       -0.202694   \n",
      "Compactness_SE            0.292999     0.206000      0.191975        0.250744   \n",
      "Concavity_SE              0.253730     0.194204      0.143293        0.228082   \n",
      "Concave_points_SE         0.408042     0.376169      0.163851        0.407217   \n",
      "Symmetry_SE              -0.006522    -0.104321      0.009127       -0.081629   \n",
      "Fractal_dimension_SE      0.077972    -0.042641      0.054458       -0.005523   \n",
      "Worst_radius              0.776454     0.969539      0.352573        0.969476   \n",
      "Worst_texture             0.456903     0.297008      0.912045        0.303038   \n",
      "Worst_perimeter           0.782914     0.965137      0.358040        0.970387   \n",
      "Worst_area                0.733825     0.941082      0.343546        0.941550   \n",
      "Worst_smoothness          0.421465     0.119616      0.077503        0.150549   \n",
      "Worst_compactness         0.590998     0.413463      0.277830        0.455774   \n",
      "Worst_concavity           0.659610     0.526911      0.301025        0.563879   \n",
      "Worst_concave_points      0.793566     0.744214      0.295316        0.771241   \n",
      "Worst_symmetry            0.416294     0.163953      0.105008        0.189115   \n",
      "Worst_fractal_dimension   0.323872     0.007066      0.119205        0.051019   \n",
      "\n",
      "                         Mean_area  Mean_smoothness  Mean_compactness  \\\n",
      "Diagnosis                 0.708984         0.358560          0.596534   \n",
      "Mean_radius               0.987357         0.170581          0.506124   \n",
      "Mean_texture              0.321086        -0.023389          0.236702   \n",
      "Mean_perimeter            0.986507         0.207278          0.556936   \n",
      "Mean_area                 1.000000         0.177028          0.498502   \n",
      "Mean_smoothness           0.177028         1.000000          0.659123   \n",
      "Mean_compactness          0.498502         0.659123          1.000000   \n",
      "Mean_concavity            0.685983         0.521984          0.883121   \n",
      "Mean_concave_points       0.823269         0.553695          0.831135   \n",
      "Mean_symmetry             0.151293         0.557775          0.602641   \n",
      "Mean_fractal_dimension   -0.283110         0.584792          0.565369   \n",
      "Radius_SE                 0.732562         0.301467          0.497473   \n",
      "Texture_SE               -0.066280         0.068406          0.046205   \n",
      "Perimeter_SE              0.726628         0.296092          0.548905   \n",
      "Area_SE                   0.800086         0.246552          0.455653   \n",
      "Smoothness_SE            -0.166777         0.332375          0.135299   \n",
      "Compactness_SE            0.212583         0.318943          0.738722   \n",
      "Concavity_SE              0.207660         0.248396          0.570517   \n",
      "Concave_points_SE         0.372320         0.380676          0.642262   \n",
      "Symmetry_SE              -0.072497         0.200774          0.229977   \n",
      "Fractal_dimension_SE     -0.019887         0.283607          0.507318   \n",
      "Worst_radius              0.962746         0.213120          0.535315   \n",
      "Worst_texture             0.287489         0.036072          0.248133   \n",
      "Worst_perimeter           0.959120         0.238853          0.590210   \n",
      "Worst_area                0.959213         0.206718          0.509604   \n",
      "Worst_smoothness          0.123523         0.805324          0.565541   \n",
      "Worst_compactness         0.390410         0.472468          0.865809   \n",
      "Worst_concavity           0.512606         0.434926          0.816275   \n",
      "Worst_concave_points      0.722017         0.503053          0.815573   \n",
      "Worst_symmetry            0.143570         0.394309          0.510223   \n",
      "Worst_fractal_dimension   0.003738         0.499316          0.687382   \n",
      "\n",
      "                         Mean_concavity  Mean_concave_points  Mean_symmetry  \\\n",
      "Diagnosis                      0.696360             0.776614       0.330499   \n",
      "Mean_radius                    0.676764             0.822529       0.147741   \n",
      "Mean_texture                   0.302418             0.293464       0.071401   \n",
      "Mean_perimeter                 0.716136             0.850977       0.183027   \n",
      "Mean_area                      0.685983             0.823269       0.151293   \n",
      "Mean_smoothness                0.521984             0.553695       0.557775   \n",
      "Mean_compactness               0.883121             0.831135       0.602641   \n",
      "Mean_concavity                 1.000000             0.921391       0.500667   \n",
      "Mean_concave_points            0.921391             1.000000       0.462497   \n",
      "Mean_symmetry                  0.500667             0.462497       1.000000   \n",
      "Mean_fractal_dimension         0.336783             0.166917       0.479921   \n",
      "Radius_SE                      0.631925             0.698050       0.303379   \n",
      "Texture_SE                     0.076218             0.021480       0.128053   \n",
      "Perimeter_SE                   0.660391             0.710650       0.313893   \n",
      "Area_SE                        0.617427             0.690299       0.223970   \n",
      "Smoothness_SE                  0.098564             0.027653       0.187321   \n",
      "Compactness_SE                 0.670279             0.490424       0.421659   \n",
      "Concavity_SE                   0.691270             0.439167       0.342627   \n",
      "Concave_points_SE              0.683260             0.615634       0.393298   \n",
      "Symmetry_SE                    0.178009             0.095351       0.449137   \n",
      "Fractal_dimension_SE           0.449301             0.257584       0.331786   \n",
      "Worst_radius                   0.688236             0.830318       0.185728   \n",
      "Worst_texture                  0.299879             0.292752       0.090651   \n",
      "Worst_perimeter                0.729565             0.855923       0.219169   \n",
      "Worst_area                     0.675987             0.809630       0.177193   \n",
      "Worst_smoothness               0.448822             0.452753       0.426675   \n",
      "Worst_compactness              0.754968             0.667454       0.473200   \n",
      "Worst_concavity                0.884103             0.752399       0.433721   \n",
      "Worst_concave_points           0.861323             0.910155       0.430297   \n",
      "Worst_symmetry                 0.409464             0.375744       0.699826   \n",
      "Worst_fractal_dimension        0.514930             0.368661       0.438413   \n",
      "\n",
      "                         ...  Worst_radius  Worst_texture  Worst_perimeter  \\\n",
      "Diagnosis                ...      0.776454       0.456903         0.782914   \n",
      "Mean_radius              ...      0.969539       0.297008         0.965137   \n",
      "Mean_texture             ...      0.352573       0.912045         0.358040   \n",
      "Mean_perimeter           ...      0.969476       0.303038         0.970387   \n",
      "Mean_area                ...      0.962746       0.287489         0.959120   \n",
      "Mean_smoothness          ...      0.213120       0.036072         0.238853   \n",
      "Mean_compactness         ...      0.535315       0.248133         0.590210   \n",
      "Mean_concavity           ...      0.688236       0.299879         0.729565   \n",
      "Mean_concave_points      ...      0.830318       0.292752         0.855923   \n",
      "Mean_symmetry            ...      0.185728       0.090651         0.219169   \n",
      "Mean_fractal_dimension   ...     -0.253691      -0.051269        -0.205151   \n",
      "Radius_SE                ...      0.715065       0.194799         0.719684   \n",
      "Texture_SE               ...     -0.111690       0.409003        -0.102242   \n",
      "Perimeter_SE             ...      0.697201       0.200371         0.721031   \n",
      "Area_SE                  ...      0.757373       0.196497         0.761213   \n",
      "Smoothness_SE            ...     -0.230691      -0.074743        -0.217304   \n",
      "Compactness_SE           ...      0.204607       0.143003         0.260516   \n",
      "Concavity_SE             ...      0.186904       0.100241         0.226680   \n",
      "Concave_points_SE        ...      0.358127       0.086741         0.394999   \n",
      "Symmetry_SE              ...     -0.128121      -0.077473        -0.103753   \n",
      "Fractal_dimension_SE     ...     -0.037488      -0.003195        -0.001000   \n",
      "Worst_radius             ...      1.000000       0.359921         0.993708   \n",
      "Worst_texture            ...      0.359921       1.000000         0.365098   \n",
      "Worst_perimeter          ...      0.993708       0.365098         1.000000   \n",
      "Worst_area               ...      0.984015       0.345842         0.977578   \n",
      "Worst_smoothness         ...      0.216574       0.225429         0.236775   \n",
      "Worst_compactness        ...      0.475820       0.360832         0.529408   \n",
      "Worst_concavity          ...      0.573975       0.368366         0.618344   \n",
      "Worst_concave_points     ...      0.787424       0.359755         0.816322   \n",
      "Worst_symmetry           ...      0.243529       0.233027         0.269493   \n",
      "Worst_fractal_dimension  ...      0.093492       0.219122         0.138957   \n",
      "\n",
      "                         Worst_area  Worst_smoothness  Worst_compactness  \\\n",
      "Diagnosis                  0.733825          0.421465           0.590998   \n",
      "Mean_radius                0.941082          0.119616           0.413463   \n",
      "Mean_texture               0.343546          0.077503           0.277830   \n",
      "Mean_perimeter             0.941550          0.150549           0.455774   \n",
      "Mean_area                  0.959213          0.123523           0.390410   \n",
      "Mean_smoothness            0.206718          0.805324           0.472468   \n",
      "Mean_compactness           0.509604          0.565541           0.865809   \n",
      "Mean_concavity             0.675987          0.448822           0.754968   \n",
      "Mean_concave_points        0.809630          0.452753           0.667454   \n",
      "Mean_symmetry              0.177193          0.426675           0.473200   \n",
      "Mean_fractal_dimension    -0.231854          0.504942           0.458798   \n",
      "Radius_SE                  0.751548          0.141919           0.287103   \n",
      "Texture_SE                -0.083195         -0.073658          -0.092439   \n",
      "Perimeter_SE               0.730713          0.130054           0.341919   \n",
      "Area_SE                    0.811408          0.125389           0.283257   \n",
      "Smoothness_SE             -0.182195          0.314457          -0.055558   \n",
      "Compactness_SE             0.199371          0.227394           0.678780   \n",
      "Concavity_SE               0.188353          0.168481           0.484858   \n",
      "Concave_points_SE          0.342271          0.215351           0.452888   \n",
      "Symmetry_SE               -0.110343         -0.012662           0.060255   \n",
      "Fractal_dimension_SE      -0.022736          0.170568           0.390159   \n",
      "Worst_radius               0.984015          0.216574           0.475820   \n",
      "Worst_texture              0.345842          0.225429           0.360832   \n",
      "Worst_perimeter            0.977578          0.236775           0.529408   \n",
      "Worst_area                 1.000000          0.209145           0.438296   \n",
      "Worst_smoothness           0.209145          1.000000           0.568187   \n",
      "Worst_compactness          0.438296          0.568187           1.000000   \n",
      "Worst_concavity            0.543331          0.518523           0.892261   \n",
      "Worst_concave_points       0.747419          0.547691           0.801080   \n",
      "Worst_symmetry             0.209146          0.493838           0.614441   \n",
      "Worst_fractal_dimension    0.079647          0.617624           0.810455   \n",
      "\n",
      "                         Worst_concavity  Worst_concave_points  \\\n",
      "Diagnosis                       0.659610              0.793566   \n",
      "Mean_radius                     0.526911              0.744214   \n",
      "Mean_texture                    0.301025              0.295316   \n",
      "Mean_perimeter                  0.563879              0.771241   \n",
      "Mean_area                       0.512606              0.722017   \n",
      "Mean_smoothness                 0.434926              0.503053   \n",
      "Mean_compactness                0.816275              0.815573   \n",
      "Mean_concavity                  0.884103              0.861323   \n",
      "Mean_concave_points             0.752399              0.910155   \n",
      "Mean_symmetry                   0.433721              0.430297   \n",
      "Mean_fractal_dimension          0.346234              0.175325   \n",
      "Radius_SE                       0.380585              0.531062   \n",
      "Texture_SE                     -0.068956             -0.119638   \n",
      "Perimeter_SE                    0.418899              0.554897   \n",
      "Area_SE                         0.385100              0.538166   \n",
      "Smoothness_SE                  -0.058298             -0.102007   \n",
      "Compactness_SE                  0.639147              0.483208   \n",
      "Concavity_SE                    0.662564              0.440472   \n",
      "Concave_points_SE               0.549592              0.602450   \n",
      "Symmetry_SE                     0.037119             -0.030413   \n",
      "Fractal_dimension_SE            0.379975              0.215204   \n",
      "Worst_radius                    0.573975              0.787424   \n",
      "Worst_texture                   0.368366              0.359755   \n",
      "Worst_perimeter                 0.618344              0.816322   \n",
      "Worst_area                      0.543331              0.747419   \n",
      "Worst_smoothness                0.518523              0.547691   \n",
      "Worst_compactness               0.892261              0.801080   \n",
      "Worst_concavity                 1.000000              0.855434   \n",
      "Worst_concave_points            0.855434              1.000000   \n",
      "Worst_symmetry                  0.532520              0.502528   \n",
      "Worst_fractal_dimension         0.686511              0.511114   \n",
      "\n",
      "                         Worst_symmetry  Worst_fractal_dimension  \n",
      "Diagnosis                      0.416294                 0.323872  \n",
      "Mean_radius                    0.163953                 0.007066  \n",
      "Mean_texture                   0.105008                 0.119205  \n",
      "Mean_perimeter                 0.189115                 0.051019  \n",
      "Mean_area                      0.143570                 0.003738  \n",
      "Mean_smoothness                0.394309                 0.499316  \n",
      "Mean_compactness               0.510223                 0.687382  \n",
      "Mean_concavity                 0.409464                 0.514930  \n",
      "Mean_concave_points            0.375744                 0.368661  \n",
      "Mean_symmetry                  0.699826                 0.438413  \n",
      "Mean_fractal_dimension         0.334019                 0.767297  \n",
      "Radius_SE                      0.094543                 0.049559  \n",
      "Texture_SE                    -0.128215                -0.045655  \n",
      "Perimeter_SE                   0.109930                 0.085433  \n",
      "Area_SE                        0.074126                 0.017539  \n",
      "Smoothness_SE                 -0.107342                 0.101480  \n",
      "Compactness_SE                 0.277878                 0.590973  \n",
      "Concavity_SE                   0.197788                 0.439329  \n",
      "Concave_points_SE              0.143116                 0.310655  \n",
      "Symmetry_SE                    0.389402                 0.078079  \n",
      "Fractal_dimension_SE           0.111094                 0.591328  \n",
      "Worst_radius                   0.243529                 0.093492  \n",
      "Worst_texture                  0.233027                 0.219122  \n",
      "Worst_perimeter                0.269493                 0.138957  \n",
      "Worst_area                     0.209146                 0.079647  \n",
      "Worst_smoothness               0.493838                 0.617624  \n",
      "Worst_compactness              0.614441                 0.810455  \n",
      "Worst_concavity                0.532520                 0.686511  \n",
      "Worst_concave_points           0.502528                 0.511114  \n",
      "Worst_symmetry                 1.000000                 0.537848  \n",
      "Worst_fractal_dimension        0.537848                 1.000000  \n",
      "\n",
      "[31 rows x 31 columns]\n"
     ]
    }
   ],
   "source": [
    "Corr=df.corr()\n",
    "print(Corr)"
   ]
  },
  {
   "cell_type": "code",
   "execution_count": 13,
   "metadata": {},
   "outputs": [
    {
     "data": {
      "text/plain": [
       "<matplotlib.axes._subplots.AxesSubplot at 0x271a526b730>"
      ]
     },
     "execution_count": 13,
     "metadata": {},
     "output_type": "execute_result"
    },
    {
     "data": {
      "image/png": "[encoded data removed]",
      "text/plain": [
       "<Figure size 432x288 with 2 Axes>"
      ]
     },
     "metadata": {
      "needs_background": "light"
     },
     "output_type": "display_data"
    }
   ],
   "source": [
    "sns.heatmap(Corr, annot=False, fmt='.4f')"
   ]
  },
  {
   "cell_type": "code",
   "execution_count": 14,
   "metadata": {},
   "outputs": [
    {
     "name": "stdout",
     "output_type": "stream",
     "text": [
      "Diagnosis Mean_radius 0.7300285113754569\n",
      "Diagnosis Mean_perimeter 0.742635529725833\n",
      "Diagnosis Mean_area 0.7089838365853909\n",
      "Diagnosis Mean_concave_points 0.7766138400204361\n",
      "Diagnosis Worst_radius 0.7764537785950388\n",
      "Diagnosis Worst_perimeter 0.782914137173759\n",
      "Diagnosis Worst_area 0.7338250349210516\n",
      "Diagnosis Worst_concave_points 0.7935660171412696\n",
      "Mean_texture Worst_texture 0.9120445888404215\n",
      "Mean_smoothness Worst_smoothness 0.8053241954943631\n",
      "Mean_compactness Mean_concavity 0.8831206701772499\n",
      "Mean_compactness Compactness_SE 0.7387217896603926\n",
      "Mean_compactness Worst_compactness 0.8658090398022638\n",
      "Mean_compactness Worst_concavity 0.8162752498000281\n",
      "Mean_fractal_dimension Worst_fractal_dimension 0.7672967792384351\n",
      "Radius_SE Perimeter_SE 0.9727936770160752\n",
      "Radius_SE Area_SE 0.95183011211099\n",
      "Concavity_SE Concave_points_SE 0.771803994923847\n",
      "Concavity_SE Fractal_dimension_SE 0.7273721838811942\n"
     ]
    }
   ],
   "source": [
    "CorField = []\n",
    "dct = {}\n",
    "for i in Corr:\n",
    "    for j in Corr.index[Corr[i] > 0.7]:\n",
    "        if i != j and j not in CorField and i not in CorField:\n",
    "            CorField.append(j)\n",
    "            print (i,j, Corr[i][Corr.index==j].values[0])\n",
    "            if i == 'Diagnosis':\n",
    "                dct[j] = i"
   ]
  },
  {
   "cell_type": "code",
   "execution_count": 15,
   "metadata": {},
   "outputs": [
    {
     "name": "stdout",
     "output_type": "stream",
     "text": [
      "{'Mean_radius': 'Diagnosis', 'Mean_perimeter': 'Diagnosis', 'Mean_area': 'Diagnosis', 'Mean_concave_points': 'Diagnosis', 'Worst_radius': 'Diagnosis', 'Worst_perimeter': 'Diagnosis', 'Worst_area': 'Diagnosis', 'Worst_concave_points': 'Diagnosis'}\n"
     ]
    }
   ],
   "source": [
    "print(dct)"
   ]
  },
  {
   "cell_type": "code",
   "execution_count": 16,
   "metadata": {},
   "outputs": [
    {
     "name": "stdout",
     "output_type": "stream",
     "text": [
      "AxesSubplot(0.125,0.125;0.775x0.755)\n",
      "(0.0, 1.9960241193694588)\n",
      "AxesSubplot(0.125,0.125;0.775x0.755)\n",
      "(0.0, 1.9960241193694588)\n",
      "AxesSubplot(0.125,0.125;0.775x0.755)\n",
      "(0.0, 1.9960241193694588)\n",
      "AxesSubplot(0.125,0.125;0.775x0.755)\n",
      "(0.0, 1.9960241193694588)\n",
      "AxesSubplot(0.125,0.125;0.775x0.755)\n",
      "(0.0, 1.9960241193694588)\n",
      "AxesSubplot(0.125,0.125;0.775x0.755)\n",
      "(0.0, 1.9960241193694588)\n",
      "AxesSubplot(0.125,0.125;0.775x0.755)\n",
      "(0.0, 1.9960241193694588)\n",
      "AxesSubplot(0.125,0.125;0.775x0.755)\n",
      "(0.0, 1.9960241193694588)\n"
     ]
    },
    {
     "data": {
      "image/png": "[encoded data removed]",
      "text/plain": [
       "<Figure size 432x288 with 1 Axes>"
      ]
     },
     "metadata": {
      "needs_background": "light"
     },
     "output_type": "display_data"
    }
   ],
   "source": [
    "for el in dct:\n",
    "    print(sns.regplot(x = el, y=dct[el], data=df))\n",
    "    print(plt.ylim(0,))"
   ]
  },
  {
   "cell_type": "code",
   "execution_count": 17,
   "metadata": {},
   "outputs": [
    {
     "name": "stdout",
     "output_type": "stream",
     "text": [
      "Mean_radius\n",
      "Mean_perimeter\n",
      "Mean_area\n",
      "Mean_concave_points\n",
      "Worst_radius\n",
      "Worst_perimeter\n",
      "Worst_area\n",
      "Worst_concave_points\n"
     ]
    }
   ],
   "source": [
    "for el in dct:\n",
    "    print(el)"
   ]
  },
  {
   "cell_type": "code",
   "execution_count": 18,
   "metadata": {},
   "outputs": [],
   "source": [
    "list_d = ['Mean_radius',\n",
    "'Mean_perimeter',\n",
    "'Mean_area',\n",
    "'Mean_concave_points',\n",
    "'Worst_radius',\n",
    "'Worst_perimeter',\n",
    "'Worst_area',\n",
    "'Worst_concave_points']"
   ]
  },
  {
   "cell_type": "code",
   "execution_count": 19,
   "metadata": {},
   "outputs": [
    {
     "data": {
      "text/plain": [
       "(0.0, 1.989605722971885)"
      ]
     },
     "execution_count": 19,
     "metadata": {},
     "output_type": "execute_result"
    },
    {
     "data": {
      "image/png": "[encoded data removed]",
      "text/plain": [
       "<Figure size 432x288 with 1 Axes>"
      ]
     },
     "metadata": {
      "needs_background": "light"
     },
     "output_type": "display_data"
    }
   ],
   "source": [
    "sns.regplot(x=\"Mean_radius\", y=\"Diagnosis\", data=df)\n",
    "plt.ylim(0,)"
   ]
  },
  {
   "cell_type": "code",
   "execution_count": 20,
   "metadata": {},
   "outputs": [
    {
     "data": {
      "text/plain": [
       "(0.0, 2.541395466618744)"
      ]
     },
     "execution_count": 20,
     "metadata": {},
     "output_type": "execute_result"
    },
    {
     "data": {
      "image/png": "[encoded data removed]",
      "text/plain": [
       "<Figure size 432x288 with 1 Axes>"
      ]
     },
     "metadata": {
      "needs_background": "light"
     },
     "output_type": "display_data"
    }
   ],
   "source": [
    "sns.regplot(x=\"Mean_area\", y=\"Diagnosis\", data=df)\n",
    "plt.ylim(0,)"
   ]
  },
  {
   "cell_type": "code",
   "execution_count": 21,
   "metadata": {},
   "outputs": [
    {
     "data": {
      "text/plain": [
       "(0.0, 1.3156384526061407)"
      ]
     },
     "execution_count": 21,
     "metadata": {},
     "output_type": "execute_result"
    },
    {
     "data": {
      "image/png": "[encoded data removed]",
      "text/plain": [
       "<Figure size 432x288 with 1 Axes>"
      ]
     },
     "metadata": {
      "needs_background": "light"
     },
     "output_type": "display_data"
    }
   ],
   "source": [
    "sns.regplot(x=\"Mean_compactness\", y=\"Worst_concavity\", data=df)\n",
    "plt.ylim(0,)"
   ]
  },
  {
   "cell_type": "code",
   "execution_count": 22,
   "metadata": {},
   "outputs": [
    {
     "data": {
      "text/plain": [
       "<matplotlib.axes._subplots.AxesSubplot at 0x271a5d36400>"
      ]
     },
     "execution_count": 22,
     "metadata": {},
     "output_type": "execute_result"
    },
    {
     "data": {
      "image/png": "[encoded data removed]",
      "text/plain": [
       "<Figure size 432x288 with 1 Axes>"
      ]
     },
     "metadata": {
      "needs_background": "light"
     },
     "output_type": "display_data"
    }
   ],
   "source": [
    "sns.boxplot(x=\"Diagnosis\", y=\"Mean_area\", data=df)"
   ]
  },
  {
   "cell_type": "code",
   "execution_count": 23,
   "metadata": {},
   "outputs": [],
   "source": [
    "from scipy import stats"
   ]
  },
  {
   "cell_type": "code",
   "execution_count": 24,
   "metadata": {
    "scrolled": true
   },
   "outputs": [
    {
     "name": "stdout",
     "output_type": "stream",
     "text": [
      "PearsonR между Mean_radius и price 0.7300285113754564 с P-знчением P = 8.465940572258751e-96\n",
      "Корреляция между Mean_radius и Diagnosis статистически значимая\n",
      "Коэффициент ~0.7300285113754564 показывает положительную относительно сильную связь\n",
      "\n",
      "PearsonR между Mean_perimeter и price 0.7426355297258331 с P-знчением P = 8.436251036168419e-101\n",
      "Корреляция между Mean_perimeter и Diagnosis статистически значимая\n",
      "Коэффициент ~0.7426355297258331 показывает положительную относительно сильную связь\n",
      "\n",
      "PearsonR между Mean_area и price 0.70898383658539 с P-знчением P = 4.734564310304486e-88\n",
      "Корреляция между Mean_area и Diagnosis статистически значимая\n",
      "Коэффициент ~0.70898383658539 показывает положительную относительно сильную связь\n",
      "\n",
      "PearsonR между Mean_concave_points и price 0.7766138400204354 с P-знчением P = 7.101150161054297e-116\n",
      "Корреляция между Mean_concave_points и Diagnosis статистически значимая\n",
      "Коэффициент ~0.7766138400204354 показывает положительную достаточно сильную связь\n",
      "\n",
      "PearsonR между Worst_radius и price 0.7764537785950396 с P-знчением P = 8.482291921679676e-116\n",
      "Корреляция между Worst_radius и Diagnosis статистически значимая\n",
      "Коэффициент ~0.7764537785950396 показывает положительную достаточно сильную связь\n",
      "\n",
      "PearsonR между Worst_perimeter и price 0.7829141371737592 с P-знчением P = 5.771397139666877e-119\n",
      "Корреляция между Worst_perimeter и Diagnosis статистически значимая\n",
      "Коэффициент ~0.7829141371737592 показывает положительную достаточно сильную связь\n",
      "\n",
      "PearsonR между Worst_area и price 0.733825034921051 с P-знчением P = 2.828847704285126e-97\n",
      "Корреляция между Worst_area и Diagnosis статистически значимая\n",
      "Коэффициент ~0.733825034921051 показывает положительную относительно сильную связь\n",
      "\n",
      "PearsonR между Worst_concave_points и price 0.79356601714127 с P-знчением P = 1.9690997072156805e-124\n",
      "Корреляция между Worst_concave_points и Diagnosis статистически значимая\n",
      "Коэффициент ~0.79356601714127 показывает положительную достаточно сильную связь\n",
      "\n"
     ]
    }
   ],
   "source": [
    "cols = list_d\n",
    "\n",
    "for col in cols: \n",
    "    pearson_coef, p_value = stats.pearsonr(df[col], df['Diagnosis'])\n",
    "    print(\"PearsonR между {} и price {} с P-знчением P = {}\".format(\n",
    "          col, pearson_coef, p_value ))\n",
    "    \n",
    "    if p_value < 0.001:\n",
    "        print('Корреляция между {} и Diagnosis статистически значимая'.format(col))\n",
    "    elif p_value < 0.05:\n",
    "        print('Корреляция между {} и Diagnosis средняя'.format(col))\n",
    "    elif p_value < 0.1:\n",
    "        print('Корреляция между {} и Diagnosis слабая'.format(col))\n",
    "    else:\n",
    "        print('Корреляция между {} и Diagnosis статистически незначимая'.format(col))\n",
    "        \n",
    "    if pearson_coef > 0 :\n",
    "        if pearson_coef > 0.85:\n",
    "            print('Коэффициент ~{} показывает положительную очень сильную связь\\n'.format(pearson_coef))\n",
    "        elif pearson_coef > 0.75 :\n",
    "            print('Коэффициент ~{} показывает положительную достаточно сильную связь\\n'.format(pearson_coef))\n",
    "        elif pearson_coef > 0.60:\n",
    "            print('Коэффициент ~{} показывает положительную относительно сильную связь\\n'.format(pearson_coef))\n",
    "        elif pearson_coef > 0.50 :\n",
    "            print('Коэффициент ~{} показывает положительную среднюю связь\\n'.format(pearson_coef))\n",
    "        else:\n",
    "            print('Коэффициент ~{} показывает положительную слабую связь\\n'.format(pearson_coef))\n",
    "    else:\n",
    "        if abs(pearson_coef) > 0.85:\n",
    "            print('Коэффициент ~{} показывает негативную очень сильную связь\\n'.format(pearson_coef))\n",
    "        elif abs(pearson_coef) > 0.75 :\n",
    "            print('Коэффициент ~{} показывает негативную достаточно сильную связь\\n'.format(pearson_coef))\n",
    "        elif abs(pearson_coef) > 0.60:\n",
    "            print('Коэффициент ~{} показывает негативную относительно сильную связь\\n'.format(pearson_coef))\n",
    "        elif abs(pearson_coef) > 0.50 :\n",
    "            print('Коэффициент ~{} показывает положительную среднюю связь\\n'.format(pearson_coef))\n",
    "        else:\n",
    "            print('Коэффициент ~{} показывает положительную слабую связь\\n'.format(pearson_coef))"
   ]
  },
  {
   "cell_type": "code",
   "execution_count": 25,
   "metadata": {},
   "outputs": [],
   "source": [
    "df=df.fillna(0)"
   ]
  },
  {
   "cell_type": "code",
   "execution_count": 26,
   "metadata": {},
   "outputs": [],
   "source": [
    "y=df.Diagnosis"
   ]
  },
  {
   "cell_type": "code",
   "execution_count": 27,
   "metadata": {},
   "outputs": [],
   "source": [
    "X=df.drop('Diagnosis',axis=1)"
   ]
  },
  {
   "cell_type": "code",
   "execution_count": 28,
   "metadata": {},
   "outputs": [],
   "source": [
    "from sklearn.model_selection import train_test_split\n",
    "X_train, X_test, y_train, y_test = train_test_split(X, y, test_size=0.3, random_state=42)"
   ]
  },
  {
   "cell_type": "code",
   "execution_count": 29,
   "metadata": {},
   "outputs": [],
   "source": [
    "\n",
    "from sklearn.preprocessing import StandardScaler\n",
    "sc = StandardScaler()\n",
    "X_train = sc.fit_transform(X_train)\n",
    "X_test = sc.transform (X_test)"
   ]
  },
  {
   "cell_type": "code",
   "execution_count": 30,
   "metadata": {},
   "outputs": [],
   "source": [
    "from sklearn.ensemble import RandomForestRegressor"
   ]
  },
  {
   "cell_type": "code",
   "execution_count": 31,
   "metadata": {},
   "outputs": [
    {
     "data": {
      "text/plain": [
       "RandomForestRegressor(max_depth=2, random_state=0)"
      ]
     },
     "execution_count": 31,
     "metadata": {},
     "output_type": "execute_result"
    }
   ],
   "source": [
    "regr =(max_depth=2, random_state=0, n_estimators=100)\n",
    "regr.fit(X_train, y_train)  "
   ]
  },
  {
   "cell_type": "code",
   "execution_count": 32,
   "metadata": {},
   "outputs": [
    {
     "name": "stdout",
     "output_type": "stream",
     "text": [
      "[0.00000000e+00 1.46312049e-02 3.66888040e-04 4.72007949e-03\n",
      " 2.62660382e-04 0.00000000e+00 6.52349922e-04 4.01373419e-01\n",
      " 0.00000000e+00 0.00000000e+00 3.89312302e-03 2.36316640e-04\n",
      " 1.29979116e-03 7.87084148e-03 1.04311823e-03 0.00000000e+00\n",
      " 2.99003018e-03 0.00000000e+00 1.06731554e-03 2.46377908e-03\n",
      " 5.81628315e-02 8.53305455e-03 1.04657216e-01 7.79942812e-02\n",
      " 1.11569898e-04 1.03798995e-03 6.49410214e-03 2.99400862e-01\n",
      " 7.37175815e-04 0.00000000e+00]\n"
     ]
    }
   ],
   "source": [
    "print(regr.feature_importances_)"
   ]
  },
  {
   "cell_type": "code",
   "execution_count": 33,
   "metadata": {},
   "outputs": [],
   "source": [
    "df=df.drop('Diagnosis',axis=1)"
   ]
  },
  {
   "cell_type": "code",
   "execution_count": 45,
   "metadata": {},
   "outputs": [],
   "source": [
    "importances = list(zip(clf.feature_importances_, df.columns))\n",
    "importances.sort(reverse=True)"
   ]
  },
  {
   "cell_type": "code",
   "execution_count": 46,
   "metadata": {},
   "outputs": [
    {
     "data": {
      "text/plain": [
       "[(0.15046704524491503, 'Worst_perimeter'),\n",
       " (0.1299533766292103, 'Worst_concave_points'),\n",
       " (0.12074626578608358, 'Mean_concave_points'),\n",
       " (0.08287619175851807, 'Worst_radius'),\n",
       " (0.07248445541530683, 'Mean_perimeter'),\n",
       " (0.06186550738563557, 'Worst_area'),\n",
       " (0.05704826084149784, 'Mean_concavity'),\n",
       " (0.04153918315658884, 'Worst_concavity'),\n",
       " (0.031000398144542432, 'Mean_radius'),\n",
       " (0.028107885485100185, 'Mean_area'),\n",
       " (0.0238058862198902, 'Area_SE'),\n",
       " (0.02371979170982121, 'Worst_compactness'),\n",
       " (0.023702234899875992, 'Perimeter_SE'),\n",
       " (0.022558814926855006, 'Worst_texture'),\n",
       " (0.020240039793917215, 'Radius_SE'),\n",
       " (0.015488140694950263, 'Worst_symmetry'),\n",
       " (0.01456616768851755, 'Mean_texture'),\n",
       " (0.012184904151428573, 'Worst_smoothness'),\n",
       " (0.010226454853901746, 'Mean_compactness'),\n",
       " (0.007690949249470733, 'Texture_SE'),\n",
       " (0.005855788725715131, 'Symmetry_SE'),\n",
       " (0.005817382140708277, 'Mean_fractal_dimension'),\n",
       " (0.005785147103289004, 'Mean_smoothness'),\n",
       " (0.005367747606550297, 'Fractal_dimension_SE'),\n",
       " (0.00496152538856697, 'Smoothness_SE'),\n",
       " (0.004878796181636585, 'Concavity_SE'),\n",
       " (0.004780745319234779, 'Compactness_SE'),\n",
       " (0.004471951782085604, 'Concave_points_SE'),\n",
       " (0.004368079905243765, 'Worst_fractal_dimension'),\n",
       " (0.003440881810942562, 'Mean_symmetry')]"
      ]
     },
     "execution_count": 46,
     "metadata": {},
     "output_type": "execute_result"
    }
   ],
   "source": [
    "importances"
   ]
  },
  {
   "cell_type": "code",
   "execution_count": 36,
   "metadata": {},
   "outputs": [],
   "source": [
    "y_pred = regr.predict(X_test)"
   ]
  },
  {
   "cell_type": "code",
   "execution_count": 39,
   "metadata": {},
   "outputs": [
    {
     "name": "stdout",
     "output_type": "stream",
     "text": [
      "[0.02732747 0.97946382 0.97946382 0.02732747 0.02732747 0.97946382\n",
      " 0.97946382 0.82913008 0.85935176 0.02732747 0.02732747 0.96954194\n",
      " 0.04363248 0.81554232 0.02732747 0.97946382 0.04363248 0.02732747\n",
      " 0.02732747 0.97946382 0.12490065 0.02732747 0.97946382 0.02732747\n",
      " 0.02732747 0.13888774 0.02732747 0.02732747 0.02732747 0.97946382\n",
      " 0.02732747 0.02732747 0.10611852 0.04363248 0.02732747 0.02732747\n",
      " 0.54909833 0.06816607 0.97946382 0.04694053 0.02732747 0.97946382\n",
      " 0.03663679 0.02732747 0.29805925 0.02732747 0.03454407 0.05375294\n",
      " 0.02732747 0.02732747 0.97946382 0.97946382 0.14620668 0.2037592\n",
      " 0.02732747 0.02732747 0.02732747 0.97946382 0.83011014 0.02732747\n",
      " 0.02732747 0.97946382 0.97946382 0.02732747 0.02732747 0.03178188\n",
      " 0.97946382 0.97946382 0.02732747 0.03454407 0.93719364 0.97946382\n",
      " 0.02732747 0.97946382 0.02732747 0.13801534 0.02732747 0.34363128\n",
      " 0.02732747 0.19477278 0.88211908 0.02732747 0.08070568 0.97946382\n",
      " 0.64866511 0.97946382 0.91946709 0.97946382 0.02732747 0.03178188\n",
      " 0.02732747 0.27123607 0.42096158 0.02732747 0.02732747 0.02732747\n",
      " 0.97946382 0.97946382 0.02732747 0.97383882 0.8857774  0.02732747\n",
      " 0.8676019  0.97946382 0.03063552 0.03663679 0.02732747 0.97946382\n",
      " 0.69782592 0.05824448 0.97946382 0.02732747 0.0529418  0.97946382\n",
      " 0.35042088 0.97946382 0.02732747 0.02732747 0.03785212 0.97946382\n",
      " 0.4789628  0.02732747 0.02732747 0.97946382 0.03178188 0.97946382\n",
      " 0.97946382 0.02732747 0.02732747 0.97946382 0.70867263 0.97946382\n",
      " 0.04864888 0.03454407 0.33797966 0.80188062 0.61979127 0.02732747\n",
      " 0.40141716 0.97946382 0.02732747 0.97946382 0.02732747 0.02732747\n",
      " 0.9466358  0.02732747 0.97946382 0.97946382 0.50723169 0.02732747\n",
      " 0.67329796 0.02732747 0.02732747 0.02732747 0.02732747 0.97946382\n",
      " 0.97946382 0.02732747 0.04363248 0.02732747 0.05652686 0.02732747\n",
      " 0.02732747 0.03663679 0.32329802 0.02732747 0.02732747 0.05252882\n",
      " 0.02732747 0.84771613 0.37758156]\n"
     ]
    }
   ],
   "source": [
    "print(y_pred)"
   ]
  },
  {
   "cell_type": "code",
   "execution_count": 37,
   "metadata": {},
   "outputs": [],
   "source": [
    "from sklearn.metrics import accuracy_score "
   ]
  },
  {
   "cell_type": "code",
   "execution_count": 38,
   "metadata": {},
   "outputs": [
    {
     "ename": "ValueError",
     "evalue": "Classification metrics can't handle a mix of binary and continuous targets",
     "output_type": "error",
     "traceback": [
      "\u001b[1;31m---------------------------------------------------------------------------\u001b[0m",
      "\u001b[1;31mValueError\u001b[0m                                Traceback (most recent call last)",
      "\u001b[1;32m<ipython-input-38-b123e04c5193>\u001b[0m in \u001b[0;36m<module>\u001b[1;34m\u001b[0m\n\u001b[1;32m----> 1\u001b[1;33m \u001b[0maccuracy_score\u001b[0m\u001b[1;33m(\u001b[0m\u001b[0my_test\u001b[0m\u001b[1;33m,\u001b[0m \u001b[0my_pred\u001b[0m\u001b[1;33m)\u001b[0m\u001b[1;33m\u001b[0m\u001b[1;33m\u001b[0m\u001b[0m\n\u001b[0m",
      "\u001b[1;32m~\\anaconda3\\lib\\site-packages\\sklearn\\utils\\validation.py\u001b[0m in \u001b[0;36minner_f\u001b[1;34m(*args, **kwargs)\u001b[0m\n\u001b[0;32m     71\u001b[0m                           FutureWarning)\n\u001b[0;32m     72\u001b[0m         \u001b[0mkwargs\u001b[0m\u001b[1;33m.\u001b[0m\u001b[0mupdate\u001b[0m\u001b[1;33m(\u001b[0m\u001b[1;33m{\u001b[0m\u001b[0mk\u001b[0m\u001b[1;33m:\u001b[0m \u001b[0marg\u001b[0m \u001b[1;32mfor\u001b[0m \u001b[0mk\u001b[0m\u001b[1;33m,\u001b[0m \u001b[0marg\u001b[0m \u001b[1;32min\u001b[0m \u001b[0mzip\u001b[0m\u001b[1;33m(\u001b[0m\u001b[0msig\u001b[0m\u001b[1;33m.\u001b[0m\u001b[0mparameters\u001b[0m\u001b[1;33m,\u001b[0m \u001b[0margs\u001b[0m\u001b[1;33m)\u001b[0m\u001b[1;33m}\u001b[0m\u001b[1;33m)\u001b[0m\u001b[1;33m\u001b[0m\u001b[1;33m\u001b[0m\u001b[0m\n\u001b[1;32m---> 73\u001b[1;33m         \u001b[1;32mreturn\u001b[0m \u001b[0mf\u001b[0m\u001b[1;33m(\u001b[0m\u001b[1;33m**\u001b[0m\u001b[0mkwargs\u001b[0m\u001b[1;33m)\u001b[0m\u001b[1;33m\u001b[0m\u001b[1;33m\u001b[0m\u001b[0m\n\u001b[0m\u001b[0;32m     74\u001b[0m     \u001b[1;32mreturn\u001b[0m \u001b[0minner_f\u001b[0m\u001b[1;33m\u001b[0m\u001b[1;33m\u001b[0m\u001b[0m\n\u001b[0;32m     75\u001b[0m \u001b[1;33m\u001b[0m\u001b[0m\n",
      "\u001b[1;32m~\\anaconda3\\lib\\site-packages\\sklearn\\metrics\\_classification.py\u001b[0m in \u001b[0;36maccuracy_score\u001b[1;34m(y_true, y_pred, normalize, sample_weight)\u001b[0m\n\u001b[0;32m    185\u001b[0m \u001b[1;33m\u001b[0m\u001b[0m\n\u001b[0;32m    186\u001b[0m     \u001b[1;31m# Compute accuracy for each possible representation\u001b[0m\u001b[1;33m\u001b[0m\u001b[1;33m\u001b[0m\u001b[1;33m\u001b[0m\u001b[0m\n\u001b[1;32m--> 187\u001b[1;33m     \u001b[0my_type\u001b[0m\u001b[1;33m,\u001b[0m \u001b[0my_true\u001b[0m\u001b[1;33m,\u001b[0m \u001b[0my_pred\u001b[0m \u001b[1;33m=\u001b[0m \u001b[0m_check_targets\u001b[0m\u001b[1;33m(\u001b[0m\u001b[0my_true\u001b[0m\u001b[1;33m,\u001b[0m \u001b[0my_pred\u001b[0m\u001b[1;33m)\u001b[0m\u001b[1;33m\u001b[0m\u001b[1;33m\u001b[0m\u001b[0m\n\u001b[0m\u001b[0;32m    188\u001b[0m     \u001b[0mcheck_consistent_length\u001b[0m\u001b[1;33m(\u001b[0m\u001b[0my_true\u001b[0m\u001b[1;33m,\u001b[0m \u001b[0my_pred\u001b[0m\u001b[1;33m,\u001b[0m \u001b[0msample_weight\u001b[0m\u001b[1;33m)\u001b[0m\u001b[1;33m\u001b[0m\u001b[1;33m\u001b[0m\u001b[0m\n\u001b[0;32m    189\u001b[0m     \u001b[1;32mif\u001b[0m \u001b[0my_type\u001b[0m\u001b[1;33m.\u001b[0m\u001b[0mstartswith\u001b[0m\u001b[1;33m(\u001b[0m\u001b[1;34m'multilabel'\u001b[0m\u001b[1;33m)\u001b[0m\u001b[1;33m:\u001b[0m\u001b[1;33m\u001b[0m\u001b[1;33m\u001b[0m\u001b[0m\n",
      "\u001b[1;32m~\\anaconda3\\lib\\site-packages\\sklearn\\metrics\\_classification.py\u001b[0m in \u001b[0;36m_check_targets\u001b[1;34m(y_true, y_pred)\u001b[0m\n\u001b[0;32m     88\u001b[0m \u001b[1;33m\u001b[0m\u001b[0m\n\u001b[0;32m     89\u001b[0m     \u001b[1;32mif\u001b[0m \u001b[0mlen\u001b[0m\u001b[1;33m(\u001b[0m\u001b[0my_type\u001b[0m\u001b[1;33m)\u001b[0m \u001b[1;33m>\u001b[0m \u001b[1;36m1\u001b[0m\u001b[1;33m:\u001b[0m\u001b[1;33m\u001b[0m\u001b[1;33m\u001b[0m\u001b[0m\n\u001b[1;32m---> 90\u001b[1;33m         raise ValueError(\"Classification metrics can't handle a mix of {0} \"\n\u001b[0m\u001b[0;32m     91\u001b[0m                          \"and {1} targets\".format(type_true, type_pred))\n\u001b[0;32m     92\u001b[0m \u001b[1;33m\u001b[0m\u001b[0m\n",
      "\u001b[1;31mValueError\u001b[0m: Classification metrics can't handle a mix of binary and continuous targets"
     ]
    }
   ],
   "source": [
    "accuracy_score(y_test, y_pred)"
   ]
  },
  {
   "cell_type": "code",
   "execution_count": 40,
   "metadata": {},
   "outputs": [],
   "source": [
    "from sklearn.ensemble import RandomForestClassifier"
   ]
  },
  {
   "cell_type": "code",
   "execution_count": 41,
   "metadata": {},
   "outputs": [],
   "source": [
    "clf = RandomForestClassifier()"
   ]
  },
  {
   "cell_type": "code",
   "execution_count": 42,
   "metadata": {},
   "outputs": [
    {
     "data": {
      "text/plain": [
       "RandomForestClassifier()"
      ]
     },
     "execution_count": 42,
     "metadata": {},
     "output_type": "execute_result"
    }
   ],
   "source": [
    "clf.fit(X_train, y_train)"
   ]
  },
  {
   "cell_type": "code",
   "execution_count": 43,
   "metadata": {},
   "outputs": [],
   "source": [
    "y_pred  = clf.predict(X_test)"
   ]
  },
  {
   "cell_type": "code",
   "execution_count": 44,
   "metadata": {},
   "outputs": [
    {
     "data": {
      "text/plain": [
       "0.9649122807017544"
      ]
     },
     "execution_count": 44,
     "metadata": {},
     "output_type": "execute_result"
    }
   ],
   "source": [
    "accuracy_score(y_test, y_pred)"
   ]
  },
  {
   "cell_type": "code",
   "execution_count": null,
   "metadata": {},
   "outputs": [],
   "source": []
  }
 ],
 "metadata": {
  "kernelspec": {
   "display_name": "Python 3",
   "language": "python",
   "name": "python3"
  },
  "language_info": {
   "codemirror_mode": {
    "name": "ipython",
    "version": 3
   },
   "file_extension": ".py",
   "mimetype": "text/x-python",
   "name": "python",
   "nbconvert_exporter": "python",
   "pygments_lexer": "ipython3",
   "version": "3.8.3"
  }
 },
 "nbformat": 4,
 "nbformat_minor": 4
}
